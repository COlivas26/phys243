{
 "cells": [
  {
   "cell_type": "markdown",
   "metadata": {},
   "source": [
    "# PHYS 243 Homework 1\n",
    "## Carlos Olivas ID# 861045506\n",
    "## Problem 1\n",
    "\n",
    "Part 1:"
   ]
  },
  {
   "cell_type": "code",
   "execution_count": 2,
   "metadata": {},
   "outputs": [],
   "source": [
    "def Fib_rec(n):\n",
    "    if n == 0:\n",
    "        return 1\n",
    "    elif n == 1:\n",
    "        return 1\n",
    "    else:\n",
    "        return Fib_rec(n-1) + Fib_rec(n-2)\n",
    "    \n",
    "def Fib_iter(n):\n",
    "    \n",
    "    if n ==0:\n",
    "        return 1\n",
    "    if n == 1:\n",
    "        return 1\n",
    "    \n",
    "    num1 = 0\n",
    "    num2 = 1\n",
    "\n",
    "    for i in range(n):\n",
    "        temp = num2\n",
    "        num2 += num1\n",
    "        num1 = temp\n",
    "    \n",
    "    return num2"
   ]
  },
  {
   "cell_type": "markdown",
   "metadata": {},
   "source": [
    "Part 2:\n",
    "\n",
    "    The iterative implementation is faster. \n",
    "    \n",
    "Part 3:"
   ]
  },
  {
   "cell_type": "code",
   "execution_count": 3,
   "metadata": {},
   "outputs": [],
   "source": [
    "import time\n",
    "def timer(n, k, f):\n",
    "\n",
    "    average_time = 0\n",
    "\n",
    "    for i in range(k):\n",
    "        start = time.time()\n",
    "\n",
    "        f(n)\n",
    "\n",
    "        end = time.time()\n",
    "\n",
    "        average_time += (end - start)\n",
    "\n",
    "    average_time /= k\n",
    "\n",
    "    return average_time"
   ]
  },
  {
   "cell_type": "markdown",
   "metadata": {},
   "source": [
    "Part 4:"
   ]
  },
  {
   "cell_type": "code",
   "execution_count": 10,
   "metadata": {},
   "outputs": [
    {
     "data": {
      "image/png": "[encoded data removed]",
      "text/plain": [
       "<Figure size 432x288 with 1 Axes>"
      ]
     },
     "metadata": {},
     "output_type": "display_data"
    }
   ],
   "source": [
    "import numpy as np\n",
    "import matplotlib.pyplot as plt \n",
    "%matplotlib inline\n",
    "\n",
    "x_vals = np.array([i+1 for i in range(10)])\n",
    "\n",
    "# get average times for recurssive implementation\n",
    "y_vals_rec = list(map(lambda x: timer(x, 5, Fib_rec), x_vals))\n",
    "\n",
    "y_vals_iter = list(map(lambda x: timer(x, 5, Fib_iter), x_vals))\n",
    "\n",
    "plt.plot(x_vals, y_vals_rec, 'b')\n",
    "plt.plot(x_vals, y_vals_iter, 'r')\n",
    "plt.ylim(top=0.0002)\n",
    "plt.ylabel(\"average time\")\n",
    "plt.xlabel(\"nth value in Fibonacci sequence\")\n",
    "plt.legend([\"Recursive method\", \"Iterative method\"], loc='center left',bbox_to_anchor=(1, 0.5))\n",
    "plt.show()"
   ]
  },
  {
   "cell_type": "markdown",
   "metadata": {},
   "source": [
    "# Problem 2\n",
    "Part 1:"
   ]
  },
  {
   "cell_type": "code",
   "execution_count": 12,
   "metadata": {},
   "outputs": [
    {
     "name": "stdout",
     "output_type": "stream",
     "text": [
      "Determinant for M: \n",
      "54.00000000000001\n",
      "Transpose of M: \n",
      "[[ 1 -4  2]\n",
      " [-4  1 -2]\n",
      " [ 2 -2 -2]]\n",
      "Inverse of M:\n",
      "[]\n"
     ]
    }
   ],
   "source": [
    "M = np.array([[1, -4, 2],[-4, 1, -2], [2, -2, -2]])\n",
    "M_det = np.linalg.det(M)\n",
    "M_t = np.transpose(M)\n",
    "M_inv = []\n",
    "try:\n",
    "    M_inv = np.lingalg.inv(M)\n",
    "except:\n",
    "    pass\n",
    "    \n",
    "print(\"Determinant for M: \")\n",
    "print(M_det)\n",
    "print(\"Transpose of M: \")\n",
    "print(M_t)\n",
    "print(\"Inverse of M:\")\n",
    "print(M_inv)\n"
   ]
  },
  {
   "cell_type": "markdown",
   "metadata": {},
   "source": [
    "Part 2:"
   ]
  },
  {
   "cell_type": "code",
   "execution_count": 13,
   "metadata": {},
   "outputs": [
    {
     "name": "stdout",
     "output_type": "stream",
     "text": [
      "Eigenvalues for M:\n",
      "[-3.  6. -3.]\n",
      "Eigenvectors for M:\n",
      "[[-0.74535599 -0.66666667  0.09505013]\n",
      " [-0.59628479  0.66666667  0.51960247]\n",
      " [ 0.2981424  -0.33333333  0.84910467]]\n"
     ]
    }
   ],
   "source": [
    "M_eig = np.linalg.eig(M)\n",
    "print(\"Eigenvalues for M:\")\n",
    "print(M_eig[0])\n",
    "print(\"Eigenvectors for M:\")\n",
    "print(M_eig[1])"
   ]
  },
  {
   "cell_type": "markdown",
   "metadata": {},
   "source": [
    "Part 3:"
   ]
  },
  {
   "cell_type": "markdown",
   "metadata": {},
   "source": [
    "\\begin{align}\n",
    "\\nabla_A f(A) &= \n",
    "\\begin{bmatrix}\n",
    "2x_{11}x_{22}x_{23}+x_{12}x_{13}x_{31} & x_{11}x_{13}x_{31} & x_{11}x_{12}x_{31}\\\\\n",
    "-x^2_{33}x_{32} & x^2_{11}x_{23} & x^2_{11}x_{22} \\\\\n",
    "x_{11}x_{12}x_{13} & -x^2_{33}x_{21} & -x_{32}x_{21}\n",
    "\\end{bmatrix}\n",
    "\\end{align}\n"
   ]
  },
  {
   "cell_type": "markdown",
   "metadata": {},
   "source": [
    "Part 4:"
   ]
  },
  {
   "cell_type": "markdown",
   "metadata": {},
   "source": [
    "\\begin{bmatrix}\n",
    "6xy-yzsin(x) & 3x^2+zcos(x)+2yz^5 & ycos(x)+5y^2z^4 \\\\\n",
    "3x^2+zcos(x)+2yz^5 & 2xz^5 & sin(x) +10xyz^4 \\\\\n",
    "ycos(x)+5y^2z^4 & sin(x)+10xyz^4 & 20xy^2z^3\n",
    "\\end{bmatrix}"
   ]
  },
  {
   "cell_type": "markdown",
   "metadata": {},
   "source": [
    "# Problem 3\n",
    "Part 1:\n",
    "\n",
    "   Validation samples are used to test and to adjust the parameters of a learning algorithm. This is to ensure that the learning algorithm works well with data that it hasn't seen yet. Test samples are examples that are not made available during the learning stage of development. The test samples are used to evualuate the effectiveness of the learning algorithm. \n",
    "\n",
    "Part 2: \n",
    "    \n",
    "   In supervised learning, the learning algorithm is given the labels of training sample. The learning algorithm is then meant to predict the labels of other data, based on the labels that were provided in the learning stage. In unsupervised learning, the algorithm is employed to find the possible labels for the data. The data's labels are not provided in the learning and validation stages.  "
   ]
  }
 ],
 "metadata": {
  "kernelspec": {
   "display_name": "Python 3",
   "language": "python",
   "name": "python3"
  },
  "language_info": {
   "codemirror_mode": {
    "name": "ipython",
    "version": 3
   },
   "file_extension": ".py",
   "mimetype": "text/x-python",
   "name": "python",
   "nbconvert_exporter": "python",
   "pygments_lexer": "ipython3",
   "version": "3.6.5"
  }
 },
 "nbformat": 4,
 "nbformat_minor": 2
}
