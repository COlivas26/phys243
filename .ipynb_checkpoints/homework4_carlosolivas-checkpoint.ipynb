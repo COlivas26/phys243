{
 "cells": [
  {
   "cell_type": "markdown",
   "metadata": {},
   "source": [
    "# Homework #4\n",
    "## Carlos Olivas #"
   ]
  },
  {
   "cell_type": "markdown",
   "metadata": {},
   "source": [
    "This homework assignment revolves around using differnt classification methods on the MNIST handwritten dataset. The classification methods will hopefully predict which numbers are drawn in the images. We will begin by importing all necessary libraries. "
   ]
  },
  {
   "cell_type": "code",
   "execution_count": 1,
   "metadata": {},
   "outputs": [],
   "source": [
    "import numpy as np\n",
    "import pandas as pd\n",
    "import matplotlib.pyplot as plt\n",
    "from mlxtend.data import loadlocal_mnist\n",
    "from sklearn.metrics import accuracy_score, confusion_matrix\n",
    "from sklearn.model_selection import GridSearchCV\n",
    "from sklearn.neighbors import KNeighborsClassifier\n",
    "from sklearn.tree import DecisionTreeClassifier\n",
    "from sklearn.ensemble import RandomForestClassifier\n",
    "from sklearn.cluster import KMeans\n",
    "from sklearn.preprocessing import scale\n",
    "%matplotlib inline "
   ]
  },
  {
   "cell_type": "markdown",
   "metadata": {},
   "source": [
    "Next we'll import the training image set and the testing image set. "
   ]
  },
  {
   "cell_type": "code",
   "execution_count": 3,
   "metadata": {},
   "outputs": [],
   "source": [
    "# import the image data sets\n",
    "train_x, train_y = loadlocal_mnist(images_path='train_images.idx3-ubyte', labels_path='train_labels.idx1-ubyte')\n",
    "test_x, test_y = loadlocal_mnist(images_path='test_images.idx3-ubyte', labels_path='test_labels.idx1-ubyte')"
   ]
  },
  {
   "cell_type": "markdown",
   "metadata": {},
   "source": [
    "For future reference, we're going to display the distribution of the images amoungst the possible number value labels."
   ]
  },
  {
   "cell_type": "code",
   "execution_count": 6,
   "metadata": {},
   "outputs": [
    {
     "name": "stdout",
     "output_type": "stream",
     "text": [
      "Number values possible: [0 1 2 3 4 5 6 7 8 9]\n",
      "Image distribution: [5923 6742 5958 6131 5842 5421 5918 6265 5851 5949]\n"
     ]
    }
   ],
   "source": [
    "# distribution of images for each number\n",
    "print('Number values possible: %s' % np.unique(train_y))\n",
    "print('Image distribution: %s' % np.bincount(train_y))"
   ]
  },
  {
   "cell_type": "markdown",
   "metadata": {},
   "source": [
    "For the first half of the assignment, we're supposed to find all the 9's in the image sets. For this part, we aren't concerned what the actual labels are for the other number; just whether they are a 9 or not. So we'll change this to a binary classification problem. The labels for the 9's will be set to 1 and the labels for all the other will be set to 0."
   ]
  },
  {
   "cell_type": "code",
   "execution_count": 4,
   "metadata": {},
   "outputs": [],
   "source": [
    "# set all 9's labels as 1 and all not 9's label as 0\n",
    "train_y_bi = np.where(train_y == 9, 1, 0)\n",
    "test_y_bi = np.where(test_y == 9, 1, 0)"
   ]
  },
  {
   "cell_type": "markdown",
   "metadata": {},
   "source": [
    "Again, for future reference, we're going to display the distribution of images in each category."
   ]
  },
  {
   "cell_type": "code",
   "execution_count": 11,
   "metadata": {},
   "outputs": [
    {
     "name": "stdout",
     "output_type": "stream",
     "text": [
      "Possible labels: [0 1]\n",
      "Train set image distribution: [54051  5949]\n",
      "Test set image distribution: [8991 1009]\n"
     ]
    }
   ],
   "source": [
    "print('Possible labels: %s' % np.unique(train_y_bi))\n",
    "\n",
    "print('Train set image distribution: %s' % np.bincount(train_y_bi))\n",
    "print('Test set image distribution: %s' % np.bincount(test_y_bi))"
   ]
  },
  {
   "cell_type": "markdown",
   "metadata": {},
   "source": [
    "The first method for classification will be K-Nearest Neighbors Minkowski metric of order 1, 2, and 3. "
   ]
  },
  {
   "cell_type": "code",
   "execution_count": 13,
   "metadata": {},
   "outputs": [
    {
     "name": "stdout",
     "output_type": "stream",
     "text": [
      "[[8947   44]\n",
      " [  56  953]]\n",
      "Accuracy: 0.990000\n"
     ]
    }
   ],
   "source": [
    "# KNN Minkowski order of 1\n",
    "clf = KNeighborsClassifier(p=1, metric='minkowski')\n",
    "clf.fit(train_x, train_y_bi)\n",
    "pred_y = clf.predict(test_x)\n",
    "conf_mtx = confusion_matrix(test_y_bi, pred_y)\n",
    "print(conf_mtx)\n",
    "print('Accuracy: %f' % accuracy_score(test_y_bi, pred_y))"
   ]
  },
  {
   "cell_type": "code",
   "execution_count": 14,
   "metadata": {},
   "outputs": [
    {
     "name": "stdout",
     "output_type": "stream",
     "text": [
      "[[8948   43]\n",
      " [  47  962]]\n",
      "Accuracy: 0.991000\n"
     ]
    }
   ],
   "source": [
    "# KNN Minkowski order of 2\n",
    "clf.p = 2\n",
    "clf.fit(train_x, train_y_bi)\n",
    "pred_y = clf.predict(test_x)\n",
    "conf_mtx = confusion_matrix(test_y_bi, pred_y)\n",
    "print(conf_mtx)\n",
    "print('Accuracy: %f' % accuracy_score(test_y_bi, pred_y))"
   ]
  },
  {
   "cell_type": "code",
   "execution_count": null,
   "metadata": {},
   "outputs": [],
   "source": [
    "# KNN Minkowski order of 3\n",
    "clf.p = 3\n",
    "clf.fit(train_x, train_y_bi)\n",
    "pred_y = clf.predict(test_x)\n",
    "conf_mtx = confusion_matrix(test_y_bi, pred_y)\n",
    "print(conf_mtx)\n",
    "print('Accuracy: %f' % accuracy_score(test_y_bi, pred_y))"
   ]
  },
  {
   "cell_type": "markdown",
   "metadata": {},
   "source": [
    "Because we split the data set into 9's and not 9's, we created a great imbalance in the data. This is why we see such high prediction accuracies; with such a higher number of examples inthe non 9's category it is much likelier to be categorized correctly. However, looking specifically at the prediction of the 9's, which is what we're really interested in, we see that at order 1 we have a prediction rate of 94.44%, at order 2 a rate of 95.3%, and at order 3 a rate of %."
   ]
  },
  {
   "cell_type": "markdown",
   "metadata": {},
   "source": [
    "Next we'll perform the prediction using decision tree."
   ]
  },
  {
   "cell_type": "code",
   "execution_count": 5,
   "metadata": {},
   "outputs": [
    {
     "name": "stdout",
     "output_type": "stream",
     "text": [
      "[[8832  159]\n",
      " [ 181  828]]\n",
      "Accuracy: 0.966000\n"
     ]
    }
   ],
   "source": [
    "# Decision tree implementation\n",
    "clf = DecisionTreeClassifier()\n",
    "clf.fit(train_x, train_y_bi)\n",
    "pred_y = clf.predict(test_x)\n",
    "conf_mtx = confusion_matrix(test_y_bi, pred_y)\n",
    "print(conf_mtx)\n",
    "print('Accuracy: %f' % accuracy_score(test_y_bi, pred_y))"
   ]
  },
  {
   "cell_type": "markdown",
   "metadata": {},
   "source": [
    "We see that with the decision tree we get a prediction accuracy of 82.06% for the 9's. "
   ]
  },
  {
   "cell_type": "markdown",
   "metadata": {},
   "source": [
    "Next we'll use random forest."
   ]
  },
  {
   "cell_type": "code",
   "execution_count": 6,
   "metadata": {},
   "outputs": [
    {
     "name": "stderr",
     "output_type": "stream",
     "text": [
      "C:\\Users\\olivasc\\AppData\\Roaming\\Python\\Python36\\site-packages\\sklearn\\ensemble\\forest.py:245: FutureWarning: The default value of n_estimators will change from 10 in version 0.20 to 100 in 0.22.\n",
      "  \"10 in version 0.20 to 100 in 0.22.\", FutureWarning)\n"
     ]
    },
    {
     "name": "stdout",
     "output_type": "stream",
     "text": [
      "[[8970   21]\n",
      " [ 177  832]]\n",
      "Accuracy: 0.980200\n"
     ]
    }
   ],
   "source": [
    "clf = RandomForestClassifier()\n",
    "clf.fit(train_x, train_y_bi)\n",
    "pred_y = clf.predict(test_x)\n",
    "conf_mtx = confusion_matrix(test_y_bi, pred_y)\n",
    "print(conf_mtx)\n",
    "print('Accuracy: %f' % accuracy_score(test_y_bi, pred_y))"
   ]
  },
  {
   "cell_type": "markdown",
   "metadata": {},
   "source": [
    "We see that with random forest we get a prediction accuracy of 82.4% for the 9's. "
   ]
  },
  {
   "cell_type": "markdown",
   "metadata": {},
   "source": [
    "It would seem that the K Nearest neighbor method was the best at finding the 9's amongst the images. "
   ]
  },
  {
   "cell_type": "markdown",
   "metadata": {},
   "source": [
    "Now we're curious as to see if there would be any underlying patterns in the images. we will perform the k-means algorithm to find the possible clusters. We know that there are 10 clusters because the number labels range from 0-9. The iterations are set to 100 because it was found that more iterations did not improve the results, just took longer. The random state is set to 42 as that is the norm. The images data was reshaped to represent a vector, so that it may more closely resemble a point. "
   ]
  },
  {
   "cell_type": "code",
   "execution_count": 25,
   "metadata": {},
   "outputs": [],
   "source": [
    "clf = KMeans(n_clusters=10, max_iter=100, random_state=42)\n",
    "train_x_v = np.reshape(train_x, (len(train_x), 28*28))\n",
    "clf.fit(train_x_v)\n",
    "lbls = np.unique(clf.labels_)\n",
    "test_x_v = np.reshape(test_x, (len(test_x), 28*28))\n",
    "pred_y = clf.predict(test_x_v)"
   ]
  },
  {
   "cell_type": "markdown",
   "metadata": {},
   "source": [
    "We will show the cluster centers to see if the algorithm was able to cluster the images into the appropriate number labels. The images will be shown because the actual labels will be jumbled as the algorithmn is unaware of the actual labels. Each cluster will have its generated label shown as the title so that we can use that to decipher which number labels were predicted correctly."
   ]
  },
  {
   "cell_type": "code",
   "execution_count": 26,
   "metadata": {},
   "outputs": [
    {
     "data": {
      "image/png": "[encoded data removed]",
      "text/plain": [
       "<Figure size 1080x576 with 10 Axes>"
      ]
     },
     "metadata": {},
     "output_type": "display_data"
    }
   ],
   "source": [
    "fig = plt.figure(figsize=(15, 8))\n",
    "for i, center in zip(range(len(clf.labels_)), clf.cluster_centers_):\n",
    "    ax = fig.add_subplot(2, 5, i+1)\n",
    "    ax.title.set_text('Cluster label: %d' % i)\n",
    "    imgplot = ax.imshow(np.reshape(center, (28,28)), cmap=plt.cm.get_cmap(\"Greys\"))\n",
    "    imgplot.set_interpolation('nearest')\n",
    "\n",
    "plt.show()"
   ]
  },
  {
   "cell_type": "markdown",
   "metadata": {},
   "source": [
    "From the image plots, we can see that clusters were made for numbers 0, 1, 2, 3, 6, 7, 8, and 9. We can see that the repeated cluster for label 1 most likely contain the 1's, just drawn offset. Such can be the case for the repeated clusters for the 0's. We also see repeated clusters for 9's, however, the darkness of the pixels suggest what other numbers could have been lumped in as well. For cluster label 5, it contains 7's, but you can see the faint outline of a 9 as well. Based on the darker parts of the image, it can be assumed the the 4's were probably predicted to be in cluster label 8. For the 5's, they seem as they could fit in cluster label 6 and cluster label 3.  "
   ]
  },
  {
   "cell_type": "markdown",
   "metadata": {},
   "source": [
    "To see how well the unsupervised learning was able to predict the images, we will \"translate\" the produced labels to the labels that we can observe. The translations will be based on the number labels that are most clearly visible."
   ]
  },
  {
   "cell_type": "code",
   "execution_count": 27,
   "metadata": {},
   "outputs": [
    {
     "name": "stdout",
     "output_type": "stream",
     "text": [
      "[[ 871    5    2   48    0    0   30    3   17    4]\n",
      " [   0 1129    1    2    0    0    2    0    1    0]\n",
      " [  23  144  707   64    0    0   25   11   28   30]\n",
      " [  21   80   40  696    0    0    7    7  144   15]\n",
      " [   2   67    5    0    0    0   36  311    4  557]\n",
      " [  50  130    4  287    0    0   19   69  278   55]\n",
      " [  44   58   18    3    0    0  795    1   18   21]\n",
      " [   2  117   13    0    0    0    1  602    1  292]\n",
      " [  18   80    7  206    0    0   10   36  586   31]\n",
      " [  14   40    3    7    0    0    4  387   13  541]]\n",
      "Accuracy: 0.592700\n"
     ]
    }
   ],
   "source": [
    "\n",
    "# \"translate\" the clusters such that the translations won't interfere with each other\n",
    "pred_y = np.where(((pred_y == 0) | (pred_y == 2)), 10, pred_y)\n",
    "pred_y = np.where(((pred_y == 4) | (pred_y == 7)), 0, pred_y)\n",
    "pred_y = np.where((pred_y == 5), 7, pred_y)\n",
    "pred_y = np.where((pred_y == 1), 2, pred_y)\n",
    "pred_y = np.where((pred_y == 8), 90, pred_y)\n",
    "pred_y = np.where((pred_y == 3), 8, pred_y)\n",
    "pred_y = np.where((pred_y == 6), 3, pred_y)\n",
    "pred_y = np.where((pred_y == 9), 6, pred_y)\n",
    "\n",
    "pred_y = np.where((pred_y == 10), 1, pred_y)\n",
    "pred_y = np.where((pred_y == 90), 9, pred_y)\n",
    "\n",
    "conf_mtx = confusion_matrix(test_y, pred_y)\n",
    "print(conf_mtx)\n",
    "print('Accuracy: %f' % accuracy_score(test_y, pred_y))"
   ]
  },
  {
   "cell_type": "markdown",
   "metadata": {},
   "source": [
    "We can see that the unsupervised run of the k-means algorithmn had an accurate prediction rate of 59.27%. By looking at the confusion matrix, our observations about the likely cluster label predictions for certain numbers were correct. "
   ]
  },
  {
   "cell_type": "markdown",
   "metadata": {},
   "source": [
    "Now we'll see how the methods from above are able to identify each number label. "
   ]
  },
  {
   "cell_type": "code",
   "execution_count": 30,
   "metadata": {},
   "outputs": [
    {
     "name": "stdout",
     "output_type": "stream",
     "text": [
      "[[ 974    1    1    0    0    1    2    1    0    0]\n",
      " [   0 1133    2    0    0    0    0    0    0    0]\n",
      " [  12   20  974    3    2    0    1   16    4    0]\n",
      " [   0    3    2  973    1   15    1   10    2    3]\n",
      " [   2   11    0    0  934    0    6    5    1   23]\n",
      " [   6    0    0   12    2  862    4    1    1    4]\n",
      " [   7    3    0    0    3    2  943    0    0    0]\n",
      " [   0   30    3    0    4    0    0  981    0   10]\n",
      " [  12    5    5   18    7   21    5    4  891    6]\n",
      " [   5    7    4    9    9    4    1   16    1  953]]\n",
      "Accuracy: 0.961800\n"
     ]
    }
   ],
   "source": [
    "#  KNN Minkowski order of 1\n",
    "clf = KNeighborsClassifier(p=1, metric='minkowski')\n",
    "clf.fit(train_x, train_y)\n",
    "pred_y = clf.predict(test_x)\n",
    "conf_mtx = confusion_matrix(test_y, pred_y)\n",
    "print(conf_mtx)\n",
    "print('Accuracy: %f' % accuracy_score(test_y, pred_y))"
   ]
  },
  {
   "cell_type": "code",
   "execution_count": 31,
   "metadata": {},
   "outputs": [
    {
     "name": "stdout",
     "output_type": "stream",
     "text": [
      "[[ 974    1    1    0    0    1    2    1    0    0]\n",
      " [   0 1133    2    0    0    0    0    0    0    0]\n",
      " [  11    8  991    2    1    0    1   15    3    0]\n",
      " [   0    3    3  976    1   13    1    6    3    4]\n",
      " [   3    7    0    0  944    0    4    2    1   21]\n",
      " [   5    0    0   12    2  862    4    1    2    4]\n",
      " [   5    3    0    0    3    2  945    0    0    0]\n",
      " [   0   22    4    0    3    0    0  988    0   11]\n",
      " [   8    3    5   13    6   12    5    5  913    4]\n",
      " [   5    7    3    9    7    3    1   10    2  962]]\n",
      "Accuracy: 0.968800\n"
     ]
    }
   ],
   "source": [
    "# KNN Minkowski order of 2\n",
    "clf.p = 2\n",
    "clf.fit(train_x, train_y)\n",
    "pred_y = clf.predict(test_x)\n",
    "conf_mtx = confusion_matrix(test_y, pred_y)\n",
    "print(conf_mtx)\n",
    "print('Accuracy: %f' % accuracy_score(test_y, pred_y))"
   ]
  },
  {
   "cell_type": "code",
   "execution_count": null,
   "metadata": {},
   "outputs": [],
   "source": [
    "# KNN Minkowski order of 3\n",
    "clf.p = 3\n",
    "clf.fit(train_x, train_y)\n",
    "pred_y = clf.predict(test_x)\n",
    "conf_mtx = confusion_matrix(test_y, pred_y)\n",
    "print(conf_mtx)\n",
    "print('Accuracy: %f' % accuracy_score(test_y, pred_y))"
   ]
  },
  {
   "cell_type": "markdown",
   "metadata": {},
   "source": [
    "we see that at order 1 we have a prediction rate of 96.18%, at order 2 a rate of 96.88%, and at order 3 a rate of %."
   ]
  },
  {
   "cell_type": "code",
   "execution_count": 28,
   "metadata": {},
   "outputs": [
    {
     "name": "stdout",
     "output_type": "stream",
     "text": [
      "[[ 917    0    6    7    5    9   13    4   11    8]\n",
      " [   0 1088   10    5    3    4    7    7   10    1]\n",
      " [  10   10  897   27   15    9   13   27   18    6]\n",
      " [   7    6   29  863    9   44    5    7   23   17]\n",
      " [   8    4    7    7  859    9   15    9   21   43]\n",
      " [  14    8    2   35    8  752   24    7   25   17]\n",
      " [  18    4   18    9   15   21  850    1   19    3]\n",
      " [   2    9   28   19    4    4    1  927   11   23]\n",
      " [  11    9   32   42   19   26   21   10  775   29]\n",
      " [  13    4   10   22   43   11    6   21   20  859]]\n",
      "Accuracy: 0.878700\n"
     ]
    }
   ],
   "source": [
    "# Decision tree implementation\n",
    "clf = DecisionTreeClassifier()\n",
    "clf.fit(train_x, train_y)\n",
    "pred_y = clf.predict(test_x)\n",
    "conf_mtx = confusion_matrix(test_y, pred_y)\n",
    "print(conf_mtx)\n",
    "print('Accuracy: %f' % accuracy_score(test_y, pred_y))"
   ]
  },
  {
   "cell_type": "markdown",
   "metadata": {},
   "source": [
    "The decision tree method gave us an accurate prediction rate of 87.87%."
   ]
  },
  {
   "cell_type": "code",
   "execution_count": 29,
   "metadata": {},
   "outputs": [
    {
     "name": "stderr",
     "output_type": "stream",
     "text": [
      "C:\\Users\\olivasc\\AppData\\Roaming\\Python\\Python36\\site-packages\\sklearn\\ensemble\\forest.py:245: FutureWarning: The default value of n_estimators will change from 10 in version 0.20 to 100 in 0.22.\n",
      "  \"10 in version 0.20 to 100 in 0.22.\", FutureWarning)\n"
     ]
    },
    {
     "name": "stdout",
     "output_type": "stream",
     "text": [
      "[[ 970    0    0    1    1    2    3    1    2    0]\n",
      " [   0 1121    4    3    0    1    3    0    2    1]\n",
      " [   9    2  984    9    1    1    5    8   10    3]\n",
      " [   2    1   18  945    0   17    0   12   11    4]\n",
      " [   3    1    6    2  935    0    5    2    3   25]\n",
      " [   8    4    3   26    5  824    4    1   10    7]\n",
      " [  10    4    3    2    7    4  923    2    3    0]\n",
      " [   2    6   27    5    7    0    1  965    3   12]\n",
      " [   6    1    8   11   14   18   12    4  894    6]\n",
      " [   5    7    4   18   23    8    1   10   12  921]]\n",
      "Accuracy: 0.948200\n"
     ]
    }
   ],
   "source": [
    "# random forests\n",
    "clf = RandomForestClassifier()\n",
    "clf.fit(train_x, train_y)\n",
    "pred_y = clf.predict(test_x)\n",
    "conf_mtx = confusion_matrix(test_y, pred_y)\n",
    "print(conf_mtx)\n",
    "print('Accuracy: %f' % accuracy_score(test_y, pred_y))"
   ]
  },
  {
   "cell_type": "markdown",
   "metadata": {},
   "source": [
    "The random forest method gave us an accurate prediction rate of 94.82%. "
   ]
  },
  {
   "cell_type": "markdown",
   "metadata": {},
   "source": [
    "Overall, the different methods achieved pretty high accuracy prediction rates, with K Nearest Neighbor achieving the highest rate. However, the prediction rate of just the 9's went down, with the highest prediction rate for the 9's being 95.34%. This is still less than the lowest prediction rate (96.6%) when just trying to find the 9's. With more labels available and more possibilities for categorization, this is to be expected.  "
   ]
  }
 ],
 "metadata": {
  "kernelspec": {
   "display_name": "Python 3",
   "language": "python",
   "name": "python3"
  },
  "language_info": {
   "codemirror_mode": {
    "name": "ipython",
    "version": 3
   },
   "file_extension": ".py",
   "mimetype": "text/x-python",
   "name": "python",
   "nbconvert_exporter": "python",
   "pygments_lexer": "ipython3",
   "version": "3.7.3"
  }
 },
 "nbformat": 4,
 "nbformat_minor": 2
}
